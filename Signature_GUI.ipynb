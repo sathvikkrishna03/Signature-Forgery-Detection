{
 "cells": [
  {
   "cell_type": "code",
   "execution_count": null,
   "id": "3c1797c7-5478-4cba-9894-c6e8b4a696bd",
   "metadata": {},
   "outputs": [
    {
     "name": "stderr",
     "output_type": "stream",
     "text": [
      "2024-11-03 10:23:37.188 python[3530:49920] +[IMKClient subclass]: chose IMKClient_Modern\n",
      "2024-11-03 10:23:37.188 python[3530:49920] +[IMKInputSession subclass]: chose IMKInputSession_Modern\n",
      "2024-11-03 10:23:39.551 python[3530:49920] The class 'NSOpenPanel' overrides the method identifier.  This method is implemented by class 'NSWindow'\n"
     ]
    },
    {
     "name": "stdout",
     "output_type": "stream",
     "text": [
      "\u001b[1m1/1\u001b[0m \u001b[32m━━━━━━━━━━━━━━━━━━━━\u001b[0m\u001b[37m\u001b[0m \u001b[1m0s\u001b[0m 43ms/step\n"
     ]
    },
    {
     "name": "stderr",
     "output_type": "stream",
     "text": [
      "libpng warning: iCCP: known incorrect sRGB profile\n"
     ]
    },
    {
     "name": "stdout",
     "output_type": "stream",
     "text": [
      "\u001b[1m1/1\u001b[0m \u001b[32m━━━━━━━━━━━━━━━━━━━━\u001b[0m\u001b[37m\u001b[0m \u001b[1m0s\u001b[0m 15ms/step\n"
     ]
    }
   ],
   "source": [
    "import numpy as np\n",
    "import cv2\n",
    "from tensorflow.keras.models import load_model\n",
    "from tensorflow.keras.preprocessing import image\n",
    "from tkinter import Tk, Button, Label, filedialog\n",
    "from PIL import ImageTk, Image\n",
    "\n",
    "\n",
    "model = load_model('signatureforgery6layer.keras')\n",
    "\n",
    "\n",
    "def preprocess_image(img_path, target_size=(224, 224)):\n",
    "    img = image.load_img(img_path, target_size=target_size)\n",
    "    img_array = image.img_to_array(img)\n",
    "    img_array = img_array / 255.0\n",
    "    img_array = np.expand_dims(img_array, axis=0) \n",
    "    return img_array\n",
    "\n",
    "class_labels = ['Genuine', 'Forgery']\n",
    "\n",
    "def get_class_label(predictions):\n",
    "    return class_labels[np.argmax(predictions)]\n",
    "\n",
    "def upload_image():\n",
    "    global panel\n",
    "    img_path = filedialog.askopenfilename()\n",
    "\n",
    "    if img_path:\n",
    "        img = preprocess_image(img_path)\n",
    "        prediction = model.predict(img)\n",
    "        label = get_class_label(prediction)\n",
    "\n",
    "        img_cv = cv2.imread(img_path)\n",
    "        img_cv = cv2.cvtColor(img_cv, cv2.COLOR_BGR2RGB)  \n",
    "\n",
    "        h, w, _ = img_cv.shape\n",
    "        max_size = 300\n",
    "        scale = max_size / max(h, w)\n",
    "        new_w, new_h = int(w * scale), int(h * scale)\n",
    "\n",
    "        img_cv_resized = cv2.resize(img_cv, (new_w, new_h), interpolation=cv2.INTER_AREA)\n",
    "\n",
    "        img_pil = Image.fromarray(img_cv_resized)\n",
    "        img_tk = ImageTk.PhotoImage(img_pil)\n",
    "\n",
    "        if panel is None:\n",
    "            panel = Label(root, image=img_tk, bg='white')\n",
    "            panel.image = img_tk\n",
    "            panel.pack(padx=10, pady=10)\n",
    "        else:\n",
    "            panel.configure(image=img_tk)\n",
    "            panel.image = img_tk\n",
    "\n",
    "        result_label.config(text=f\"Prediction: {label}\")\n",
    "\n",
    "def refresh_form():\n",
    "    global panel\n",
    "    if panel is not None:\n",
    "        panel.config(image='')  \n",
    "    result_label.config(text=\"Prediction will appear here\")  \n",
    "\n",
    "root = Tk()\n",
    "root.title(\"Signature Forgery Detection using TensorFlow\")\n",
    "root.geometry(\"600x600\")\n",
    "\n",
    "root.attributes(\"-fullscreen\", True)\n",
    "\n",
    "# bg_image = Image.open(\"thumb-1920-5.jpg\")\n",
    "# bg_image = bg_image.resize((root.winfo_screenwidth(), root.winfo_screenheight()), Image.ANTIALIAS)\n",
    "# bg_photo = ImageTk.PhotoImage(bg_image)\n",
    "\n",
    "# background_label = Label(root, image=bg_photo)\n",
    "# background_label.place(x=0, y=0, relwidth=1, relheight=1)\n",
    "\n",
    "form_frame = Label(root, borderwidth=2, relief=\"groove\", padx=10, pady=20, bg=\"white\")\n",
    "form_frame.pack(pady=30)\n",
    "\n",
    "header_label = Label(form_frame, text=\"GEETHANJALI COLLEGE OF ENGINEERING AND TECHNOLOGY\", font=(\"Arial\", 16, \"bold\"), bg=\"white\")\n",
    "header_label.pack(pady=10)\n",
    "\n",
    "sub_header_label = Label(form_frame, text=\"(UGC AUTONOMOUS INSTITUTION)\", font=(\"Arial\", 12), bg=\"white\")\n",
    "sub_header_label.pack(pady=5)\n",
    "\n",
    "address_label = Label(form_frame, text=\"Cheeryal (V), Keesara (M), Medchal (Dist), Telangana – 501 301.\", font=(\"Arial\", 10), bg=\"white\")\n",
    "address_label.pack(pady=2)\n",
    "\n",
    "department_label = Label(form_frame, text=\"Department of ARTIFICIAL INTELLIGENCE & MACHINE LEARNING\", font=(\"Arial\", 12, \"bold\"), bg=\"white\")\n",
    "department_label.pack(pady=5)\n",
    "\n",
    "mini_project_label = Label(form_frame, text=\"Mini Project\", font=(\"Arial\", 14, \"bold\"), bg=\"white\")\n",
    "mini_project_label.pack(pady=10)\n",
    "\n",
    "form_title = Label(form_frame, text=\"Signature Forgery Detection\", font=(\"Arial\", 14, \"bold\"), bg=\"white\")\n",
    "form_title.pack(pady=10)\n",
    "\n",
    "panel = None\n",
    "\n",
    "upload_btn = Button(form_frame, text=\"Upload Signature\", command=upload_image, font=(\"Arial\", 12), width=20)\n",
    "upload_btn.pack(pady=10)\n",
    "\n",
    "refresh_btn = Button(form_frame, text=\"Refresh\", command=refresh_form, font=(\"Arial\", 12), width=20)\n",
    "refresh_btn.pack(pady=10)\n",
    "\n",
    "result_label = Label(form_frame, text=\"Prediction will appear here\", font=(\"Arial\", 14), bg=\"white\")\n",
    "result_label.pack(pady=20)\n",
    "\n",
    "footer_label = Label(form_frame, text=\"Developed By Team : (A2) Batch : (2021-2025)\", font=(\"Arial\", 10), bg=\"white\")\n",
    "footer_label.pack(side=\"bottom\", pady=10)\n",
    "\n",
    "root.mainloop()"
   ]
  },
  {
   "cell_type": "code",
   "execution_count": null,
   "id": "5d20f534-7796-4dcb-a4bd-a6f64e791658",
   "metadata": {},
   "outputs": [],
   "source": []
  }
 ],
 "metadata": {
  "kernelspec": {
   "display_name": "Python 3 (ipykernel)",
   "language": "python",
   "name": "python3"
  },
  "language_info": {
   "codemirror_mode": {
    "name": "ipython",
    "version": 3
   },
   "file_extension": ".py",
   "mimetype": "text/x-python",
   "name": "python",
   "nbconvert_exporter": "python",
   "pygments_lexer": "ipython3",
   "version": "3.12.4"
  }
 },
 "nbformat": 4,
 "nbformat_minor": 5
}
